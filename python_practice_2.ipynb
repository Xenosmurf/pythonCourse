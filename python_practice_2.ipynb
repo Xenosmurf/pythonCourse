{
  "cells": [
    {
      "cell_type": "markdown",
      "metadata": {
        "id": "p9wwt0LZzNvn"
      },
      "source": [
        "# I. Змінні та памʼять.\n",
        "Вільхова Ксенія група 5"
      ]
    },
    {
      "cell_type": "markdown",
      "metadata": {
        "id": "HTJrrm95xSV9"
      },
      "source": [
        "1. Створити змінні, що посилаються на два цілих числа, що однакові за значенням, де значення належить проміжку від -5 до 256. Перевірте, чи будуть ці змінні рівні тільки за значенням або ж ще будуть посилатися на один і той самий обʼєкт в памʼяті? Наведіть код та дайте текстову відповідь нижче."
      ]
    },
    {
      "cell_type": "code",
      "execution_count": 7,
      "metadata": {
        "id": "TATni2vzayjG"
      },
      "outputs": [
        {
          "name": "stdout",
          "output_type": "stream",
          "text": [
            "Same object:  True\n",
            "Same value:  True\n"
          ]
        }
      ],
      "source": [
        "m = 25\n",
        "n = 25\n",
        "print(\"Same object: \", (m is n))\n",
        "print(\"Same value: \" , (m == n))"
      ]
    },
    {
      "cell_type": "markdown",
      "metadata": {
        "id": "zfRG_o3WbRdg"
      },
      "source": [
        "Текстова відповідь:\n",
        "Для перевірки чи значення змінних m та n є однаковим використовую оператор ==. Для того щоб побачити чи вони посилаються на той самий об'єкт використала ключове слово is яке повертає True якщо m та n справді посилаються на той самий об'єкт. І як можемо бачити - це справджується. \n"
      ]
    },
    {
      "cell_type": "markdown",
      "metadata": {
        "id": "ISORzt6M3vAt"
      },
      "source": [
        "2. За допомогою якої функції можна перевірити належність змінної до вказаного типу даних (напр. чи змінна True посилається на значення булевого та цілочисленого типу)?"
      ]
    },
    {
      "cell_type": "code",
      "execution_count": 10,
      "metadata": {
        "id": "9vL9CFaMbfyo"
      },
      "outputs": [
        {
          "name": "stdout",
          "output_type": "stream",
          "text": [
            "a is string:  True\n",
            "a is boolean:  False\n"
          ]
        }
      ],
      "source": [
        "s = \"Hello world\"\n",
        "print(\"a is string: \", (isinstance(s,str)))\n",
        "print(\"a is boolean: \", (isinstance(s,bool)))"
      ]
    },
    {
      "cell_type": "markdown",
      "metadata": {
        "id": "tRxugKAxwYLw"
      },
      "source": [
        "# II. Цілі числа та числа з рухомою комою"
      ]
    },
    {
      "cell_type": "markdown",
      "metadata": {
        "id": "NLHkgd5Gybc8"
      },
      "source": [
        "3. Створити дві змінні, що посилаються на будь-які ціле число та число з рухомою комою та продемонструвати такі арифметичні операції: додавання, віднімання, ділення, множення, ділення без залишку, ділення по модулю, приведення до ступеню. Всі результати операцій вивести на екран."
      ]
    },
    {
      "cell_type": "code",
      "execution_count": 30,
      "metadata": {
        "id": "nb8u_3pjb2cA"
      },
      "outputs": [
        {
          "name": "stdout",
          "output_type": "stream",
          "text": [
            "a = 10 is integer: True\n",
            "b = -2.1 is float: True\n",
            "10 + -2.1 = 7.9\n",
            "10 - -2.1 = 12.1\n",
            "10 / -2.1 = -4.761904761904762\n",
            "10 * -2.1 = -21.0\n",
            "10 // -2.1 = -5.0\n",
            "10 % -2.1 = -0.5000000000000004\n",
            "10 ^ -2.1 = 0.007943282347242814\n"
          ]
        }
      ],
      "source": [
        "a = 10\n",
        "b = - 2.1\n",
        "print(\"a =\",a,\"is integer:\",isinstance(a, int))\n",
        "print(\"b =\",b,\"is float:\",isinstance(b, float))\n",
        "print(a,\"+\",b,\"=\",(a+b))\n",
        "print(a,\"-\",b,\"=\",(a-b))\n",
        "print(a,\"/\",b,\"=\",(a/b))\n",
        "print(a,\"*\",b,\"=\",(a*b))\n",
        "print(a,\"//\",b,\"=\",(a//b))\n",
        "print(a,\"%\",b,\"=\",(a%b))\n",
        "print(a,\"^\",b,\"=\",(a**b))"
      ]
    },
    {
      "cell_type": "markdown",
      "metadata": {
        "id": "1kBClKgPzZnC"
      },
      "source": [
        "4. Використовуючи змінні з вправи 3, продемонструйте механізм явного перетворення типів, де числа з рухомою комою перетворюються на цілі числа. Також визначте змінну, що посилається на значення булевого типу і спробуйте явно привести її до цілого числа."
      ]
    },
    {
      "cell_type": "code",
      "execution_count": 36,
      "metadata": {
        "id": "TbqJbkeUcKsD"
      },
      "outputs": [
        {
          "name": "stdout",
          "output_type": "stream",
          "text": [
            "-2.1 >=> -2\n",
            "True >=> 1\n"
          ]
        }
      ],
      "source": [
        "c = int(b)\n",
        "print(b,\">=>\",c)\n",
        "t = True\n",
        "newT = int(t)\n",
        "print(t,\">=>\",newT)"
      ]
    },
    {
      "cell_type": "markdown",
      "metadata": {
        "id": "EVJ7AflwxrZi"
      },
      "source": [
        "# IІІ. Рядки (String)."
      ]
    },
    {
      "cell_type": "markdown",
      "metadata": {
        "id": "_s5ECzz9zE61"
      },
      "source": [
        "5. Створити пустий рядок двома різними способами."
      ]
    },
    {
      "cell_type": "code",
      "execution_count": 38,
      "metadata": {
        "id": "fkZJHu9Scvc-"
      },
      "outputs": [
        {
          "name": "stdout",
          "output_type": "stream",
          "text": [
            "True\n"
          ]
        }
      ],
      "source": [
        "str1 = \"\"\n",
        "str2 = ''\n",
        "print(isinstance(str1,str))\n",
        "print(isinstance(str2,str))\n"
      ]
    },
    {
      "cell_type": "markdown",
      "metadata": {
        "id": "4Bdn9J3MzLf_"
      },
      "source": [
        "6. Створити рядок з апострофом. Зробити його сирим. Вивести обидва рядка на екран."
      ]
    },
    {
      "cell_type": "code",
      "execution_count": 44,
      "metadata": {
        "id": "ivji_hsmc0GH"
      },
      "outputs": [
        {
          "name": "stdout",
          "output_type": "stream",
          "text": [
            "Hello world \\'\n",
            "Hello world '\n"
          ]
        }
      ],
      "source": [
        "raw_str = r'Hello world \\''\n",
        "str1 = \"Hello world \\'\"\n",
        "print(raw_str)\n",
        "print(str1)\n"
      ]
    },
    {
      "cell_type": "markdown",
      "metadata": {
        "id": "bg_d8wM4z8dS"
      },
      "source": [
        "7. Створити змінну, що буде посилатися на Ваше прізвище латинкою. Створити форматований рядок, який буде мати вигляд \"My surname is ______\", де на місці нижніх підкреслень буде Ваше прізвище зі змінної."
      ]
    },
    {
      "cell_type": "code",
      "execution_count": 46,
      "metadata": {
        "id": "kuxFgpWndACq"
      },
      "outputs": [
        {
          "name": "stdout",
          "output_type": "stream",
          "text": [
            "My surname is Vilkhova\n",
            "My surname is Vilkhova\n"
          ]
        }
      ],
      "source": [
        "surname = \"Vilkhova\"\n",
        "print(\"My surname is {}\".format(surname))\n",
        "print(\"My surname is\", surname)"
      ]
    },
    {
      "cell_type": "markdown",
      "metadata": {
        "id": "1Nc6RqvQ0hxU"
      },
      "source": [
        "8. Маючи рядок \"My dog is crazy.\" перетворити його на список [\"my\", \"dog\", \"is\", \"crazy\"]"
      ]
    },
    {
      "cell_type": "code",
      "execution_count": 49,
      "metadata": {
        "id": "w1Ya4RqedUhw"
      },
      "outputs": [
        {
          "name": "stdout",
          "output_type": "stream",
          "text": [
            "['My', 'dog', 'is', 'crazy']\n"
          ]
        }
      ],
      "source": [
        "dog_str = \"My dog is crazy\"\n",
        "print(dog_str.split(\" \"))"
      ]
    },
    {
      "cell_type": "markdown",
      "metadata": {
        "id": "GYVqN9uP1D4n"
      },
      "source": [
        "# IV. Робота зі списками."
      ]
    },
    {
      "cell_type": "markdown",
      "metadata": {
        "id": "7-DeDunw2sO-"
      },
      "source": [
        "9. Створити список двома різними за синтаксисом способами. За допомогою вбудованої функції обчисліть довжину одного з них."
      ]
    },
    {
      "cell_type": "code",
      "execution_count": 64,
      "metadata": {
        "id": "zxg06Uuxdyoh"
      },
      "outputs": [
        {
          "name": "stdout",
          "output_type": "stream",
          "text": [
            "True\n",
            "True\n",
            "List 1: [0, 1, 2, 3]\n",
            "List 2: [4, 5, 6]\n",
            "4\n"
          ]
        }
      ],
      "source": [
        "list1 = [0,1,2,3]\n",
        "list2 = list()\n",
        "list2.append(4)\n",
        "list2.append(5)\n",
        "list2.append(6)\n",
        "print(isinstance(list1, list))\n",
        "print(isinstance(list2, list))\n",
        "print(\"List 1:\",list1)\n",
        "print(\"List 2:\",list2)\n",
        "print(len(list1))"
      ]
    },
    {
      "cell_type": "markdown",
      "metadata": {
        "id": "8vmGUTjL22gI"
      },
      "source": [
        "10. Створіть два списка та за допомогою спеціального методу додайте другий з них в якості останнього елемента першого."
      ]
    },
    {
      "cell_type": "code",
      "execution_count": 67,
      "metadata": {
        "id": "uHtjWYw7d7hm"
      },
      "outputs": [
        {
          "name": "stdout",
          "output_type": "stream",
          "text": [
            "[1, 2, 3, 4]\n",
            "[5, 6, 7, 8]\n",
            "[1, 2, 3, 4, 5, 6, 7, 8]\n"
          ]
        }
      ],
      "source": [
        "lis1 = [1,2,3,4]\n",
        "lis2 = [5,6,7,8]\n",
        "print(lis1)\n",
        "print(lis2)\n",
        "lis1.extend(lis2)\n",
        "print(lis1)"
      ]
    },
    {
      "cell_type": "markdown",
      "metadata": {
        "id": "JC3BkD-67_--"
      },
      "source": [
        "11. Створіть список, де елементами цього списку також є списки. Отримай перший елемент з останнього рядка та виведи значення на екран."
      ]
    },
    {
      "cell_type": "code",
      "execution_count": 72,
      "metadata": {
        "id": "Kz2jZHsGeLlz"
      },
      "outputs": [
        {
          "name": "stdout",
          "output_type": "stream",
          "text": [
            "5\n"
          ]
        }
      ],
      "source": [
        "myMatrix = [[1,2],[3,4],[5,6]]\n",
        "print(myMatrix[2][0])"
      ]
    },
    {
      "cell_type": "markdown",
      "metadata": {
        "id": "JA47PKTv8zFK"
      },
      "source": [
        "12. Створіть список з десяти елементів різного типу. Отримайте всі елементи, окрім двох перших та двох останніх та збережіть їх в новій змінній."
      ]
    },
    {
      "cell_type": "code",
      "execution_count": 3,
      "metadata": {
        "id": "_rHdUR-ueP4-"
      },
      "outputs": [
        {
          "name": "stdout",
          "output_type": "stream",
          "text": [
            "[3.0, True, [5, 6], 7, 8]\n"
          ]
        }
      ],
      "source": [
        "myList = [1, 'two', 3.0, True, [5, 6], 7, 8, \"nine\", 10]\n",
        "newList = myList[2:-2]\n",
        "print(newList)\n"
      ]
    },
    {
      "cell_type": "markdown",
      "metadata": {
        "id": "pCjR1dJb1Qbi"
      },
      "source": [
        "# V. Робота з кортежами."
      ]
    },
    {
      "cell_type": "markdown",
      "metadata": {
        "id": "fAZCxAX06R_k"
      },
      "source": [
        "14. Створити кортеж з один елементом."
      ]
    },
    {
      "cell_type": "code",
      "execution_count": 10,
      "metadata": {
        "id": "H7d82WkQev3e"
      },
      "outputs": [
        {
          "name": "stdout",
          "output_type": "stream",
          "text": [
            "(1,)\n",
            "True\n"
          ]
        }
      ],
      "source": [
        "myTuple = (1,)\n",
        "print(myTuple)\n",
        "print(isinstance(myTuple,tuple))"
      ]
    },
    {
      "cell_type": "markdown",
      "metadata": {
        "id": "8LCtYcmI6w1M"
      },
      "source": [
        "15. Порівняйте список та кортеж. Назвіть схожості та відмінності, випадки використання."
      ]
    },
    {
      "cell_type": "markdown",
      "metadata": {
        "id": "fUsN1Hnue0C6"
      },
      "source": [
        "Текстова відповідь:\n",
        "Головна різниця - кортеж залишається незмінним, ми не можемо додати до нього елементи чи змінити їх, тільки вивести їх. список можна редагувати, змінювати уже наявні в ньому елементи."
      ]
    },
    {
      "cell_type": "markdown",
      "metadata": {
        "id": "m0xrwFijAmDD"
      },
      "source": [
        "16. Створіть кортеж з 11ти елементів чисел з рухомою комою та отримайте кожен парний за індексом елемент в зворотньому порядку. Наприклад, маючи (1.2, 2.3, 3.3, 4.3, 5.3, 6.3, 7.3, 8.3, 9.3, 0.3), отримати (0.3, 8.3, 6.3, 4.3, 2.3). Результат збережіть в нову змінну та виведіть на екран."
      ]
    },
    {
      "cell_type": "code",
      "execution_count": 24,
      "metadata": {
        "id": "p-5DAH6XfAGA"
      },
      "outputs": [
        {
          "name": "stdout",
          "output_type": "stream",
          "text": [
            "(29.0, 97.8, 94.3, 78.3, 5.38, 3.2)\n"
          ]
        }
      ],
      "source": [
        "someTuple = (3.2, 7.3, 5.38, 65.3, 78.3, 80.03, 94.3, 50.3, 97.8, 15.6, 29.0)\n",
        "evenTuple = someTuple[::-2]\n",
        "print(evenTuple)\n"
      ]
    },
    {
      "cell_type": "markdown",
      "metadata": {
        "id": "rW_I9dt3x6cW"
      },
      "source": [
        "# VI. Множини (Set)."
      ]
    },
    {
      "cell_type": "markdown",
      "metadata": {
        "id": "zNjRLHLw1Bgg"
      },
      "source": [
        "17. Створити множину без елементів. Після цого за допомогою методу додайте кілька різних елементів до множини. Чи множини є змінним типом даних?"
      ]
    },
    {
      "cell_type": "code",
      "execution_count": 36,
      "metadata": {
        "id": "KOv7zc2Kfo4N"
      },
      "outputs": [
        {
          "name": "stdout",
          "output_type": "stream",
          "text": [
            "{1, 2}\n",
            "{2}\n"
          ]
        }
      ],
      "source": [
        "mySet = set()\n",
        "mySet.add(1)\n",
        "mySet.add(1)\n",
        "mySet.add(2)\n",
        "print(mySet)\n",
        "mySet.remove(1)\n",
        "print(mySet)"
      ]
    },
    {
      "cell_type": "markdown",
      "metadata": {
        "id": "vxS6dVYiftZQ"
      },
      "source": [
        "Текстова відповідь:\n",
        "Множина змінна структура даних, можна додавати до неї елементи так і видаляти. Головне, що потрібно пам'яти це те, що в множині не може бути дублікатів."
      ]
    },
    {
      "cell_type": "markdown",
      "metadata": {
        "id": "gHpT0Zw_1HEF"
      },
      "source": [
        "18. Створити множину, маючи список my_list = [1, 1, 2, 67, 67, 8, 9]. Пояснити, чому \"зникли\" деякі елементи."
      ]
    },
    {
      "cell_type": "code",
      "execution_count": 37,
      "metadata": {
        "id": "qCN4uvJ_fxmu"
      },
      "outputs": [
        {
          "name": "stdout",
          "output_type": "stream",
          "text": [
            "{1, 2, 67, 8, 9}\n"
          ]
        }
      ],
      "source": [
        "newSet = {1, 1, 2, 67, 67, 8, 9}\n",
        "print(newSet)"
      ]
    },
    {
      "cell_type": "markdown",
      "metadata": {
        "id": "tFNc1e20fyny"
      },
      "source": [
        "Текстова відповідь: У множині не може бути дублікатів, тому при додаванні елементу в множину який вона вже має, він не додається повторно."
      ]
    },
    {
      "cell_type": "markdown",
      "metadata": {
        "id": "SRMkGizS1UwY"
      },
      "source": [
        "19. Створіть дві множини. Продемонстуйте над ними операції: обʼєднання, різниці, пересічі та симетричної різниці. Використовуйте методи, що не змінюють множини, а створюють нові."
      ]
    },
    {
      "cell_type": "code",
      "execution_count": 45,
      "metadata": {
        "id": "h0T-VuDnf3Ri"
      },
      "outputs": [
        {
          "name": "stdout",
          "output_type": "stream",
          "text": [
            "Set1: {1, 2, 3, 4}\n",
            "Set2: {3, 4, 5, 6, 7}\n",
            "Union: {1, 2, 3, 4, 5, 6, 7}\n",
            "Difference: {1, 2}\n",
            "Intersection: {3, 4}\n",
            "Symmetric difference: {1, 2, 5, 6, 7}\n"
          ]
        }
      ],
      "source": [
        "oneSet = {1,2,3,4}\n",
        "print(\"Set1:\", oneSet)\n",
        "secondSet = {3,4,5,6,7}\n",
        "print(\"Set2:\", secondSet)\n",
        "unionSet = oneSet.union(secondSet)\n",
        "print(\"Union:\", unionSet)\n",
        "difSet = oneSet.difference(secondSet)\n",
        "print(\"Difference:\", difSet)\n",
        "interSet = oneSet.intersection(secondSet)\n",
        "print(\"Intersection:\", interSet)\n",
        "symetricSet = oneSet.symmetric_difference(secondSet)\n",
        "print(\"Symmetric difference:\", symetricSet)\n"
      ]
    },
    {
      "cell_type": "markdown",
      "metadata": {
        "id": "kWc8gkzTx7Ea"
      },
      "source": [
        "# VII. Словники (Dictionary)."
      ]
    },
    {
      "cell_type": "markdown",
      "metadata": {
        "id": "i5FLwj-B2ybQ"
      },
      "source": [
        "20. Створіть пустий словник. До нього додайте чотири пари елементів такі, щоб їхні ключі були різних типів. Чи може список бути ключем? Чому?"
      ]
    },
    {
      "cell_type": "code",
      "execution_count": 52,
      "metadata": {
        "id": "hxgv3BzrgLAV"
      },
      "outputs": [
        {
          "name": "stdout",
          "output_type": "stream",
          "text": [
            "{'hello': 'world', True: 'World', 2: 4, 3.14: 'pi', (3, 14): 'pi'}\n"
          ]
        }
      ],
      "source": [
        "myDictionary = dict()\n",
        "myDictionary['hello'] = 'world'\n",
        "myDictionary[True] = 'World'\n",
        "myDictionary[3.14] = \"pi\"\n",
        "myDictionary[3, 14] = \"pi\"\n",
        "print(myDictionary)"
      ]
    },
    {
      "cell_type": "markdown",
      "metadata": {
        "id": "zwa7UVN-gR3m"
      },
      "source": [
        "Текстова відповідь: Список не може бути ключем, бо ключ у словнику має бути незмінним типом даних. Так як список, не є хешованим типом даним, то і не можу бути ключем відповідно. Але кортеж може бути ключем, з тої ж самої причини."
      ]
    },
    {
      "cell_type": "markdown",
      "metadata": {
        "id": "WM_pMlJsgoNf"
      },
      "source": [
        "21. Створіть словник, де значенням в одній з пар теж буде словник, який теж має вкладений словник. Виведіть на екран значення, що міститься в словнику, що знаходиться на найнижчому рівні ієрархії вкладеності (найбільш внутрішній)."
      ]
    },
    {
      "cell_type": "code",
      "execution_count": 60,
      "metadata": {
        "id": "60dlP7IHhAy4"
      },
      "outputs": [
        {
          "name": "stdout",
          "output_type": "stream",
          "text": [
            "{'hello': 'world', 4: 2}\n",
            "{'hello': 'world', 4: 2}\n",
            "{'hello': 'world', 4: 2}\n"
          ]
        }
      ],
      "source": [
        "oneDict = {'hello':\"world\", 4:2}\n",
        "secondDict = {1 : oneDict, 4:5}\n",
        "thirdDict = {3.14 : secondDict, \"nice\" : \"laba\"}\n",
        "print(oneDict)\n",
        "print(secondDict[1])\n",
        "print(thirdDict[3.14][1])\n",
        "# print(secondDict)\n",
        "# print(thirdDict)"
      ]
    },
    {
      "cell_type": "markdown",
      "metadata": {
        "id": "xOZP0hkx6cCr"
      },
      "source": [
        "# Вітаю! Ви велика(ий) молодець, що впоралась(вся). Похваліть себе та побалуйте чимось приємним. Я Вами пишаюся."
      ]
    }
  ],
  "metadata": {
    "colab": {
      "provenance": []
    },
    "kernelspec": {
      "display_name": "Python 3.11.0 64-bit",
      "language": "python",
      "name": "python3"
    },
    "language_info": {
      "codemirror_mode": {
        "name": "ipython",
        "version": 3
      },
      "file_extension": ".py",
      "mimetype": "text/x-python",
      "name": "python",
      "nbconvert_exporter": "python",
      "pygments_lexer": "ipython3",
      "version": "3.11.0"
    },
    "vscode": {
      "interpreter": {
        "hash": "c261aea317cc0286b3b3261fbba9abdec21eaa57589985bb7a274bf54d6cc0a7"
      }
    }
  },
  "nbformat": 4,
  "nbformat_minor": 0
}
