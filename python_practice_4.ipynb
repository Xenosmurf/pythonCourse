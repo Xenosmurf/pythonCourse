{
  "cells": [
    {
      "cell_type": "markdown",
      "metadata": {
        "id": "kXpppdVm6wFy"
      },
      "source": [
        "# I. Functions. Arguments.\n",
        "Вільхова Ксенія група 5"
      ]
    },
    {
      "cell_type": "markdown",
      "metadata": {
        "id": "u_krJdlbAkVz"
      },
      "source": [
        "1. (5б) Назвіть основні 4 смислові  частини, з яких складається функція."
      ]
    },
    {
      "cell_type": "markdown",
      "metadata": {
        "id": "KKTrTXmHAptb"
      },
      "source": [
        "Текстова відповідь: \n",
        "1. назва функції\n",
        "2. тіло функції\n",
        "3. аргументи функції\n",
        "4. ключове слово def"
      ]
    },
    {
      "cell_type": "markdown",
      "metadata": {
        "id": "ORM4PqJQAtDM"
      },
      "source": [
        "2. (3б) Визначте функцію, що приймає 2 аргументи та повертає результат ділення 1го аргумента на інший."
      ]
    },
    {
      "cell_type": "code",
      "execution_count": 3,
      "metadata": {
        "id": "EuDx-z8M6sLo"
      },
      "outputs": [
        {
          "name": "stdout",
          "output_type": "stream",
          "text": [
            "5.0\n"
          ]
        }
      ],
      "source": [
        "def divide(a, b):\n",
        "    return a/b\n",
        "print(divide(10,2))"
      ]
    },
    {
      "cell_type": "markdown",
      "metadata": {
        "id": "5joQGQ-SAyMe"
      },
      "source": [
        "3. (2б) Викличте вище визначену функцію, де другий аргумент дорівнює 0."
      ]
    },
    {
      "cell_type": "code",
      "execution_count": 5,
      "metadata": {
        "id": "V5cBV1LOA3d-"
      },
      "outputs": [
        {
          "ename": "ZeroDivisionError",
          "evalue": "division by zero",
          "output_type": "error",
          "traceback": [
            "\u001b[1;31m---------------------------------------------------------------------------\u001b[0m",
            "\u001b[1;31mZeroDivisionError\u001b[0m                         Traceback (most recent call last)",
            "Cell \u001b[1;32mIn[5], line 1\u001b[0m\n\u001b[1;32m----> 1\u001b[0m \u001b[38;5;28mprint\u001b[39m(\u001b[43mdivide\u001b[49m\u001b[43m(\u001b[49m\u001b[38;5;241;43m2\u001b[39;49m\u001b[43m,\u001b[49m\u001b[38;5;241;43m0\u001b[39;49m\u001b[43m)\u001b[49m)\n",
            "Cell \u001b[1;32mIn[3], line 2\u001b[0m, in \u001b[0;36mdivide\u001b[1;34m(a, b)\u001b[0m\n\u001b[0;32m      1\u001b[0m \u001b[38;5;28;01mdef\u001b[39;00m \u001b[38;5;21mdivide\u001b[39m(a, b):\n\u001b[1;32m----> 2\u001b[0m     \u001b[38;5;28;01mreturn\u001b[39;00m \u001b[43ma\u001b[49m\u001b[38;5;241;43m/\u001b[39;49m\u001b[43mb\u001b[49m\n",
            "\u001b[1;31mZeroDivisionError\u001b[0m: division by zero"
          ]
        }
      ],
      "source": [
        "print(divide(2,0))"
      ]
    },
    {
      "cell_type": "markdown",
      "metadata": {
        "id": "QyimWgW8A43-"
      },
      "source": [
        "4. (4б) Перевизначте функцію так, щоби у випадку ділення на 0 функція повертала None, а в решті випадків - результат розрахунків."
      ]
    },
    {
      "cell_type": "code",
      "execution_count": 120,
      "metadata": {
        "id": "7VIODtSjA8Ek"
      },
      "outputs": [
        {
          "name": "stdout",
          "output_type": "stream",
          "text": [
            "None\n"
          ]
        }
      ],
      "source": [
        "def divide(a,b):\n",
        "    if(b != 0):\n",
        "        return a/b\n",
        "        \n",
        "print(divide(2,0))"
      ]
    },
    {
      "cell_type": "markdown",
      "metadata": {
        "id": "Y8mN0GfkA81l"
      },
      "source": [
        "5. (5б) Визначте функцію, що віднімає одне число від іншого (підказка: це буде 2 аргументи функції). При чому, якщо не визначити, скільки саме має бути віднято від числа, за замовчуванням має відніматися 1. Викличте функцію, передаючи тільки один аргумент."
      ]
    },
    {
      "cell_type": "code",
      "execution_count": 123,
      "metadata": {
        "id": "vg1kxkdgBA50"
      },
      "outputs": [
        {
          "name": "stdout",
          "output_type": "stream",
          "text": [
            "4\n"
          ]
        }
      ],
      "source": [
        "def minus(arg1, arg2 = 1):\n",
        "    return arg1 - arg2\n",
        "    \n",
        "print(minus(5))\n"
      ]
    },
    {
      "cell_type": "markdown",
      "metadata": {
        "id": "D3mwQGNOBBs4"
      },
      "source": [
        "6. (7б) Визначте функцію, яка приймає iterable (ітерабельний обʼєкт, напр. список), що складається з 7ми рядкових значень - назв погодних умов (напр. \"sunny\") за кожен день у тижні. Повертає функція словник, де ключами є рядки з погодними умовами, а значеннями - кількість разів, скільки дана погода була протягом тижня (напр. {'sunny': 1, ...}). Викличте цю функцію та виведіть результат її роботи на екран."
      ]
    },
    {
      "cell_type": "code",
      "execution_count": 11,
      "metadata": {
        "id": "OsWm-hKcBFyn"
      },
      "outputs": [
        {
          "name": "stdout",
          "output_type": "stream",
          "text": [
            "{'sunny': 2, 'scattered': 3, 'overcast': 5, 'drizzle': 2, 'foggy': 6, 'rainy': 1, 'snowing': 7}\n"
          ]
        }
      ],
      "source": [
        "import random\n",
        "weather = [\"sunny\",\"scattered\",\"overcast\",\"drizzle\",\"foggy\",\"rainy\",\"snowing\"]\n",
        "\n",
        "def count_weather(some_list):\n",
        "    res = {}\n",
        "    for item in some_list:\n",
        "        res[item] = random.randint(1,7)\n",
        "    return res\n",
        "\n",
        "print(count_weather(weather))\n"
      ]
    },
    {
      "cell_type": "markdown",
      "metadata": {
        "id": "RMiCcdOsBKQT"
      },
      "source": [
        "7. (15б) Напишіть програму, яка б шукала необхідне число у впорядкованому списку цілочислених значень, де\n",
        "число має вводитись з консолі.\n",
        "власне алгоритм пошуку винесений в окрему функцію, яка повертає булеве значення (знайдено число - True, не знайдено - False).\n",
        "в залежності від результату функції, виведіть на екран повідомлення про успішний або ж неуспішний пошук.\n",
        "Зауваження: використовувати оператор in заборонено."
      ]
    },
    {
      "cell_type": "code",
      "execution_count": 43,
      "metadata": {
        "id": "UNCZg65OBOy-"
      },
      "outputs": [
        {
          "name": "stdout",
          "output_type": "stream",
          "text": [
            "Input number you want to find: \n",
            "True\n"
          ]
        }
      ],
      "source": [
        "sorted_list = [1,3,6,8,9,10,15,18,19]\n",
        "\n",
        "def find(number, l):\n",
        "    start = 0\n",
        "    end = len(l) - 1\n",
        "    while(l[start] != number):\n",
        "        if(l[start] < number):\n",
        "            start += 1\n",
        "        elif(start >= end):\n",
        "            return False\n",
        "        if(l[start] > number):\n",
        "            return False\n",
        "        if(l[end] < number):\n",
        "            return False\n",
        "    return True\n",
        "\n",
        "print(\"Input number you want to find: \")\n",
        "user_input = int(input())\n",
        "print(find(user_input,sorted_list))\n"
      ]
    },
    {
      "cell_type": "markdown",
      "metadata": {
        "id": "Ae1n_OvLBTsy"
      },
      "source": [
        "# II. Lambda functions."
      ]
    },
    {
      "cell_type": "markdown",
      "metadata": {
        "id": "xaD_wSlaCWen"
      },
      "source": [
        "8. (4б) В яких випадках варто використовувати лямбда-функції?"
      ]
    },
    {
      "cell_type": "markdown",
      "metadata": {
        "id": "42MB6OoLCakR"
      },
      "source": [
        "Текстова відповідь: коли ця функція пригодииться тільки в одному місці і не буде використовуватись повторно - тобто це така функція щщо немає імені, тому її зручно застосовувати як аругмент в інших функціях"
      ]
    },
    {
      "cell_type": "markdown",
      "metadata": {
        "id": "USrzrk7GCedk"
      },
      "source": [
        "9. (9б) Визначте список з рядками. Після цього визначте анонімну функцію для отримання першого символу у верхньому регістрі для кожного рядка списку.\n",
        "Підказка: використовуйте анонімну функцію в якості агрумента до вбудованої ф-ції, яка створена для застосування функцій над iterable обʼєктами. Результат виведіть на екран у вигляді кортежу."
      ]
    },
    {
      "cell_type": "code",
      "execution_count": 44,
      "metadata": {
        "id": "M8QWUsMlCjWH"
      },
      "outputs": [
        {
          "name": "stdout",
          "output_type": "stream",
          "text": [
            "('A', 'B', 'C', 'D', 'E', 'F', 'G', 'H', 'I', 'J', 'K')\n"
          ]
        }
      ],
      "source": [
        "words = [\n",
        "    \"apple\", \"banana\", \"cat\", \"dog\", \"elephant\",\n",
        "    \"fish\", \"grape\", \"house\", \"ice cream\", \"jacket\",\n",
        "    \"kite\" ]\n",
        "\n",
        "firstUp = lambda x : x[0].upper()\n",
        "\n",
        "result = tuple(map(firstUp, words))\n",
        "\n",
        "print(result)\n"
      ]
    },
    {
      "cell_type": "markdown",
      "metadata": {
        "id": "9fyUhXOoCtGp"
      },
      "source": [
        "10. (10б) Визначте список з числовими значеннями (і цілими, і з рухомою комою). а) Відфільтруйте всі числа, які діляться націло на 3 за допомогою вбудованої функції та анонімної функції в якості аргумента). Збережіть результат у змінній, не приводяти явно до будь-якого типу. б) Використовуючи результат на кроці 12.а у якості аргументу, та за допомогою лямбда-функції в якості іншого аргументу до вбудованої функції, додайте до кожного елементу число 1 та опісля зведіть у квадрат. Остаточний результат приведіть явно до списку та виведіть на екран."
      ]
    },
    {
      "cell_type": "code",
      "execution_count": 49,
      "metadata": {
        "id": "exEx2_okCsql"
      },
      "outputs": [
        {
          "name": "stdout",
          "output_type": "stream",
          "text": [
            "<filter object at 0x0000022F2501AEF0>\n",
            "[100.0, 49]\n"
          ]
        }
      ],
      "source": [
        "numbers = [1, 2, 3.4 , 5, 6.7, 8 , 9.0, 6]\n",
        "\n",
        "### 10.a\n",
        "by_three = lambda x : x%3 == 0\n",
        "numbers_res = filter(by_three, numbers)\n",
        "print(numbers_res)\n",
        "\n",
        "### 10.b\n",
        "plus_one = lambda x : (x+1) ** 2\n",
        "numbers_res_2 = list(map(plus_one, numbers_res))\n",
        "print(numbers_res_2)"
      ]
    },
    {
      "cell_type": "markdown",
      "metadata": {
        "id": "o_x8cG_WC7jp"
      },
      "source": [
        "# III. Decorators."
      ]
    },
    {
      "cell_type": "markdown",
      "metadata": {
        "id": "mhxS4-mfC8LQ"
      },
      "source": [
        "11. (11б) Визначте декоратор, який би виводив у консоль повідомлення про початок роботи і назву функції (напр. my_function._ _ name _ _), а після відпрацювання функції - повідомлення про закінчення роботи і назву функції, що задекорована."
      ]
    },
    {
      "cell_type": "code",
      "execution_count": 93,
      "metadata": {
        "id": "srd1ygWjDGhO"
      },
      "outputs": [
        {
          "name": "stdout",
          "output_type": "stream",
          "text": [
            "---------- The work has began -------\n",
            "Hi! I am a testing function\n"
          ]
        },
        {
          "data": {
            "text/plain": [
              "'testing_foo'"
            ]
          },
          "execution_count": 93,
          "metadata": {},
          "output_type": "execute_result"
        }
      ],
      "source": [
        "def testing_foo():\n",
        "    print(\"Hi! I am a testing function\")\n",
        "\n",
        "def my_decorator(function):\n",
        "    def wrapper(*args,**kwargs):\n",
        "        print(\"---------- The work has began -------\")\n",
        "        function(*args)\n",
        "        fun_name = function.__name__\n",
        "        return fun_name\n",
        "    return wrapper\n",
        "\n",
        "decorate = my_decorator(testing_foo)\n",
        "decorate()\n",
        "\n"
      ]
    },
    {
      "cell_type": "markdown",
      "metadata": {
        "id": "rxGZwVBiDph3"
      },
      "source": [
        "12. (4б) Задекоруйте двома різними способами функції з завдання 4 та 5 декоратором із завдання 11. (**УВАГА**: не декоруйте функції двічі!)."
      ]
    },
    {
      "cell_type": "code",
      "execution_count": 132,
      "metadata": {
        "id": "06lj7eq_DwZe"
      },
      "outputs": [
        {
          "name": "stdout",
          "output_type": "stream",
          "text": [
            "---------- The work has began -------\n",
            "---------- The work has began -------\n"
          ]
        },
        {
          "data": {
            "text/plain": [
              "'divide'"
            ]
          },
          "execution_count": 132,
          "metadata": {},
          "output_type": "execute_result"
        }
      ],
      "source": [
        "### 5 \n",
        "# my_decorator(minus)(5)\n",
        "minus = my_decorator(minus)\n",
        "\n",
        "## 4\n",
        "my_decorator(divide)(0,0)\n"
      ]
    },
    {
      "cell_type": "markdown",
      "metadata": {
        "id": "P0ep1urBDzf-"
      },
      "source": [
        "13. (2б) Викличте одну з задекорованих функцій і виведіть її результат на екран."
      ]
    },
    {
      "cell_type": "code",
      "execution_count": 135,
      "metadata": {
        "id": "1QvTw0ctD0S3"
      },
      "outputs": [
        {
          "data": {
            "text/plain": [
              "'wrapper'"
            ]
          },
          "execution_count": 135,
          "metadata": {},
          "output_type": "execute_result"
        }
      ],
      "source": [
        "minus(2,1)\n"
      ]
    },
    {
      "cell_type": "markdown",
      "metadata": {
        "id": "poECCpuoD2S9"
      },
      "source": [
        "# IV. Recursion."
      ]
    },
    {
      "cell_type": "markdown",
      "metadata": {
        "id": "DqkURfdsD7MY"
      },
      "source": [
        "14. (4б) Назвіть дві частини функції, які є обовʼязковими для того, щоб називати її рекурсивною."
      ]
    },
    {
      "cell_type": "markdown",
      "metadata": {
        "id": "HYW6ttIeIQIU"
      },
      "source": [
        "Текстова відповідь: 1. має викликати сама себе 2. має бути присутня умова зупинки\\виходу програми"
      ]
    },
    {
      "cell_type": "markdown",
      "metadata": {
        "id": "WYVt20UmEA35"
      },
      "source": [
        "15. (15б) Визначте функцію, яка рекурсивно реалізовує пошук числа у послідовності Фібоначчі за її індексом (нумерація починається з нуля). Наприклад, потрібно знайти перше число у послідовності, тоді функція прийматиме 0 у якості аргумента і повертатиме 1, якщо ж знаходити третє число (індекс 2) послідовності, то функція повертатиме 2, якщо ж знаходити десяте число (індекс 9), то функція повертатиме 55."
      ]
    },
    {
      "cell_type": "code",
      "execution_count": 71,
      "metadata": {
        "id": "xIMhp05AIpV_"
      },
      "outputs": [
        {
          "name": "stdout",
          "output_type": "stream",
          "text": [
            "1\n"
          ]
        }
      ],
      "source": [
        "def fibonacci(index):\n",
        "    if(index == 0):\n",
        "        return 1\n",
        "    if(index <= 1):\n",
        "        return index\n",
        "    else:\n",
        "        return fibonacci(index - 1) + fibonacci(index - 2)\n",
        "    \n",
        "print(fibonacci(1))"
      ]
    },
    {
      "cell_type": "markdown",
      "metadata": {
        "id": "ytXC8n_4Ip0W"
      },
      "source": [
        "# Вітаю! Ви велика(ий) молодець, що впоралась(вся). Похваліть себе та побалуйте чимось приємним. Я Вами пишаюся."
      ]
    }
  ],
  "metadata": {
    "colab": {
      "provenance": []
    },
    "kernelspec": {
      "display_name": "Python 3.11.0 64-bit",
      "language": "python",
      "name": "python3"
    },
    "language_info": {
      "codemirror_mode": {
        "name": "ipython",
        "version": 3
      },
      "file_extension": ".py",
      "mimetype": "text/x-python",
      "name": "python",
      "nbconvert_exporter": "python",
      "pygments_lexer": "ipython3",
      "version": "3.11.0"
    },
    "vscode": {
      "interpreter": {
        "hash": "c261aea317cc0286b3b3261fbba9abdec21eaa57589985bb7a274bf54d6cc0a7"
      }
    }
  },
  "nbformat": 4,
  "nbformat_minor": 0
}
